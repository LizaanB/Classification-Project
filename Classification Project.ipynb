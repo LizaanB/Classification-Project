{
 "cells": [
  {
   "cell_type": "markdown",
   "id": "dc1244b6-ee9d-4ac7-9d0f-2895f256c0a7",
   "metadata": {},
   "source": [
    "<h1 style=\"text-align: center;\">🔤 Classification Notebook 🔤</h1>"
   ]
  },
  {
   "cell_type": "markdown",
   "id": "38dd62bc-3855-4fad-b09e-8b95f5b4984e",
   "metadata": {},
   "source": [
    "## Project Overview  \n",
    "This project aims to build a machine learning model capable of classifying news articles into five categories: Business, Technology, Sports, Education, and Entertainment. The dataset consists of text features such as headlines, description, and content, with corresponding category labels. Both a training and testing set are used for model evaluation."
   ]
  },
  {
   "cell_type": "markdown",
   "id": "c90c4e87-828a-4f19-8459-c065170b930b",
   "metadata": {},
   "source": [
    "### Imports\n",
    "Import necessary libraries and packages required for data analysis and visualization."
   ]
  },
  {
   "cell_type": "code",
   "execution_count": 1,
   "id": "4d287ef8-b9a4-4dff-8d22-b4a4762587f4",
   "metadata": {},
   "outputs": [],
   "source": [
    "import pandas as pd\n",
    "import numpy as np\n",
    "import matplotlib.pyplot as plt\n",
    "%matplotlib inline\n",
    "from matplotlib.colors import ListedColormap\n",
    "\n",
    "from sklearn.feature_extraction.text import CountVectorizer\n",
    "\n",
    "from sklearn.model_selection import cross_val_score\n",
    "from sklearn.model_selection import train_test_split\n",
    "from sklearn import metrics\n",
    "\n",
    "from sklearn.preprocessing import StandardScaler\n",
    "from sklearn.preprocessing import LabelEncoder\n",
    "from sklearn.datasets import make_moons, make_circles, make_classification\n",
    "\n",
    "from sklearn.linear_model import LogisticRegression\n",
    "from sklearn.neighbors import KNeighborsClassifier\n",
    "from sklearn.svm import SVC\n",
    "from sklearn.discriminant_analysis import LinearDiscriminantAnalysis\n",
    "from sklearn.discriminant_analysis import QuadraticDiscriminantAnalysis\n",
    "from sklearn.tree import DecisionTreeClassifier\n",
    "from sklearn.ensemble import RandomForestClassifier, AdaBoostClassifier"
   ]
  },
  {
   "cell_type": "markdown",
   "id": "8067905a-a168-43c3-bbaf-a57c4cfb3772",
   "metadata": {},
   "source": [
    "### Data Pre-Processing\n",
    "\n",
    "The datasets (train.csv and test.csv) are loaded then data cleaned and processed into readable format for classification."
   ]
  },
  {
   "cell_type": "code",
   "execution_count": 2,
   "id": "f23b014b-b744-4267-8c1f-8894fe53236e",
   "metadata": {},
   "outputs": [
    {
     "name": "stdout",
     "output_type": "stream",
     "text": [
      "Loading datasets...\n",
      "Dropping URL column...\n",
      "                                           headlines  \\\n",
      "0  RBI revises definition of politically-exposed ...   \n",
      "1  NDTV Q2 net profit falls 57.4% to Rs 5.55 cror...   \n",
      "2  Akasa Air ‘well capitalised’, can grow much fa...   \n",
      "3  India’s current account deficit declines sharp...   \n",
      "4  States borrowing cost soars to 7.68%, highest ...   \n",
      "\n",
      "                                         description  \\\n",
      "0  The central bank has also asked chairpersons a...   \n",
      "1  NDTV's consolidated revenue from operations wa...   \n",
      "2  The initial share sale will be open for public...   \n",
      "3  The current account deficit (CAD) was 3.8 per ...   \n",
      "4  The prices shot up reflecting the overall high...   \n",
      "\n",
      "                                             content  category  \n",
      "0  The Reserve Bank of India (RBI) has changed th...  business  \n",
      "1  Broadcaster New Delhi Television Ltd on Monday...  business  \n",
      "2  Homegrown server maker Netweb Technologies Ind...  business  \n",
      "3  India’s current account deficit declined sharp...  business  \n",
      "4  States have been forced to pay through their n...  business  \n",
      "                                           headlines  \\\n",
      "0  NLC India wins contract for power supply to Ra...   \n",
      "1  SBI Clerk prelims exams dates announced; admit...   \n",
      "2  Golden Globes: Michelle Yeoh, Will Ferrell, An...   \n",
      "3  OnePlus Nord 3 at Rs 27,999 as part of new pri...   \n",
      "4  Adani family’s partners used ‘opaque’ funds to...   \n",
      "\n",
      "                                         description  \\\n",
      "0  State-owned firm NLC India Ltd (NLCIL) on Mond...   \n",
      "1  SBI Clerk Prelims Exam: The SBI Clerk prelims ...   \n",
      "2  Barbie is the top nominee this year, followed ...   \n",
      "3  New deal makes the OnePlus Nord 3 an easy purc...   \n",
      "4  Citing review of files from multiple tax haven...   \n",
      "\n",
      "                                             content       category  \n",
      "0  State-owned firm NLC India Ltd (NLCIL) on Mond...       business  \n",
      "1  SBI Clerk Prelims Exam: The State Bank of Indi...      education  \n",
      "2  Michelle Yeoh, Will Ferrell, Angela Bassett an...  entertainment  \n",
      "3  In our review of the OnePlus Nord 3 5G, we pra...     technology  \n",
      "4  Millions of dollars were invested in some publ...       business  \n"
     ]
    }
   ],
   "source": [
    "\n",
    "# Load the datasets\n",
    "print('Loading datasets...')\n",
    "train_articles = pd.read_csv('https://raw.githubusercontent.com/Jana-Liebenberg/2401PTDS_Classification_Project/refs/heads/main/Data/processed/train.csv')  \n",
    "test_articles = pd.read_csv('https://raw.githubusercontent.com/Jana-Liebenberg/2401PTDS_Classification_Project/refs/heads/main/Data/processed/test.csv')    \n",
    "\n",
    "# Drop the 'url' column\n",
    "print('Dropping URL column...')\n",
    "train_articles.drop(columns=['url'], inplace=True, errors='ignore')\n",
    "test_articles.drop(columns=['url'], inplace=True, errors='ignore')\n",
    "\n",
    "# Display the first few rows to verify\n",
    "print(train_articles.head())\n",
    "print(test_articles.head())\n"
   ]
  },
  {
   "cell_type": "code",
   "execution_count": 3,
   "id": "82a5a385-4387-41c8-b827-a545216be083",
   "metadata": {},
   "outputs": [],
   "source": [
    "# Combine text columns for training set\n",
    "train_articles['combined_text'] = train_articles['headlines'] + ' ' + train_articles['description'] + ' ' + train_articles['content']\n",
    "\n",
    "# Combine text columns for test set\n",
    "test_articles['combined_text'] = test_articles['headlines'] + ' ' + test_articles['description'] + ' ' + test_articles['content']\n"
   ]
  },
  {
   "cell_type": "code",
   "execution_count": 4,
   "id": "40ef068d-0568-4aed-8cf0-33d0a2d08389",
   "metadata": {},
   "outputs": [
    {
     "name": "stdout",
     "output_type": "stream",
     "text": [
      "Lowering case...\n",
      "Cleaning punctuation...\n",
      "0       rbi revises definition of politicallyexposed p...\n",
      "1       ndtv q net profit falls  to rs  crore impacted...\n",
      "2       akasa air ‘well capitalised’ can grow much fas...\n",
      "3       india’s current account deficit declines sharp...\n",
      "4       states borrowing cost soars to  highest so far...\n",
      "                              ...                        \n",
      "5515    samsung sends out invites for ‘unpacked ’ new ...\n",
      "5516    google pixel  pro accidentally appears on offi...\n",
      "5517    amazon ad on google search redirects users to ...\n",
      "5518    elon musk’s x previously twitter now worth les...\n",
      "5519    apple’s ios  update released and here’s how it...\n",
      "Name: combined_text, Length: 5520, dtype: object\n",
      "0       nlc india wins contract for power supply to ra...\n",
      "1       sbi clerk prelims exams dates announced admit ...\n",
      "2       golden globes michelle yeoh will ferrell angel...\n",
      "3       oneplus nord  at rs  as part of new price cut ...\n",
      "4       adani family’s partners used ‘opaque’ funds to...\n",
      "                              ...                        \n",
      "1995    sri lankan government renews lanka ioc’s petro...\n",
      "1996    kia launches new seltos with price starting at...\n",
      "1997    rebel moon movie review zack snyder’s spectacu...\n",
      "1998    chatgpt most popular ai tool with  billion vis...\n",
      "1999    salaar movie review prabhas’ violenceriddled f...\n",
      "Name: combined_text, Length: 2000, dtype: object\n"
     ]
    }
   ],
   "source": [
    "# Convert all text in the 'combined_text' column to lowercase\n",
    "print ('Lowering case...')\n",
    "train_articles['combined_text'] = train_articles['combined_text'].str.lower()\n",
    "test_articles['combined_text'] = test_articles['combined_text'].str.lower()\n",
    "\n",
    "# Define a function to remove punctuation and numbers from the 'combined_text' column\n",
    "import string\n",
    "print ('Cleaning punctuation...')\n",
    "def remove_punctuation_numbers(post):\n",
    "    punc_numbers = string.punctuation + '0123456789'\n",
    "    return ''.join([l for l in post if l not in punc_numbers])\n",
    "    \n",
    "# Apply the remove_punctuation_numbers function to the 'post' column\n",
    "train_articles['combined_text'] = train_articles['combined_text'].apply(remove_punctuation_numbers)\n",
    "test_articles['combined_text'] = test_articles['combined_text'].apply(remove_punctuation_numbers)\n",
    "\n",
    "print(train_articles['combined_text'])\n",
    "print(test_articles['combined_text'])\n"
   ]
  },
  {
   "cell_type": "code",
   "execution_count": 5,
   "id": "8438da37-fa22-4b9f-a110-6ae855813545",
   "metadata": {},
   "outputs": [],
   "source": [
    "#This code uses `CountVectorizer` to convert the text data from the training and test sets into a matrix of token counts, while removing English stop words.\n",
    "\n",
    "# Initialize CountVectorizer\n",
    "vect = CountVectorizer(stop_words='english')\n",
    "\n",
    "# training set\n",
    "X_train = vect.fit_transform(train_articles['combined_text'])\n",
    "\n",
    "# only transform the test set\n",
    "X_test = vect.transform(test_articles['combined_text'])\n"
   ]
  },
  {
   "cell_type": "code",
   "execution_count": 6,
   "id": "2dc8f615-499a-47c6-9b46-c4f7b59e58d9",
   "metadata": {},
   "outputs": [],
   "source": [
    "#categorise y \n",
    "\n",
    "# Initialize LabelEncoder\n",
    "le = LabelEncoder()\n",
    "\n",
    "# training \n",
    "y_train = le.fit_transform(train_articles['category'])\n",
    "\n",
    "# only transform the test set\n",
    "y_test = le.transform(test_articles['category'])\n",
    "\n"
   ]
  },
  {
   "cell_type": "markdown",
   "id": "26b1467c-3021-41e8-8719-77c9cac74caf",
   "metadata": {},
   "source": [
    "### Testing Classification Models"
   ]
  },
  {
   "cell_type": "markdown",
   "id": "3f23dae3-3b07-4a80-85e1-e13336448772",
   "metadata": {},
   "source": [
    "Multiple classifiers were evaluated on a dataset, focusing on metrics such as Accuracy, Precision, Recall, F1-scores, and Training Time."
   ]
  },
  {
   "cell_type": "code",
   "execution_count": 7,
   "id": "3612fc25-8c8d-4721-9bd5-e7e7c782ac24",
   "metadata": {},
   "outputs": [],
   "source": [
    "# Define the names of the classifiers\n",
    "names = ['Logistic Regression', 'Nearest Neighbors', \n",
    "         'Linear SVM', 'RBF SVM']"
   ]
  },
  {
   "cell_type": "code",
   "execution_count": 8,
   "id": "3238bca6-1cf6-4ec7-b9f6-fa3b45c6202d",
   "metadata": {},
   "outputs": [],
   "source": [
    "# Define the classifiers with their respective hyperparameters\n",
    "classifiers = [\n",
    "    LogisticRegression(), \n",
    "    KNeighborsClassifier(3),\n",
    "    SVC(kernel=\"linear\", C=0.025)\n",
    "]"
   ]
  },
  {
   "cell_type": "code",
   "execution_count": 9,
   "id": "f32d9ecf-6f21-438c-9ab8-c858684e8547",
   "metadata": {},
   "outputs": [
    {
     "name": "stdout",
     "output_type": "stream",
     "text": [
      "Fitting Logistic Regression model...\n",
      "... predicting\n",
      "... scoring\n",
      "Fitting KNN model...\n",
      "... predicting\n",
      "... scoring\n",
      "Fitting SVC Linear model...\n",
      "... predicting\n",
      "... scoring\n",
      "... All done!\n",
      "                     Accuracy  Precision    Recall  F1 Train   F1 Test  \\\n",
      "Classifier                                                               \n",
      "Logistic Regression  1.000000   1.000000  1.000000  1.000000  0.977574   \n",
      "KNN                  0.906522   0.917236  0.906522  0.905539  0.804954   \n",
      "SVC Linear           1.000000   1.000000  1.000000  1.000000  0.976583   \n",
      "\n",
      "                     Train Time  \n",
      "Classifier                       \n",
      "Logistic Regression    2.379979  \n",
      "KNN                    0.002074  \n",
      "SVC Linear             4.882543  \n"
     ]
    }
   ],
   "source": [
    "import pandas as pd\n",
    "from sklearn import metrics\n",
    "import time\n",
    "\n",
    "# Empty lists to store results\n",
    "results = []  # Store evaluation metrics for each classifier\n",
    "models = {}  # Store trained models\n",
    "confusion = {}  # Store confusion matrices for each classifier\n",
    "class_report = {}  # Store classification reports for each classifier\n",
    "\n",
    "# Names of the classifiers (ensure this list matches the classifiers list)\n",
    "names = ['Logistic Regression', 'KNN', 'SVC Linear']\n",
    "\n",
    "# Iterate over each classifier\n",
    "for name, clf in zip(names, classifiers):\n",
    "    print('Fitting {:s} model...'.format(name))\n",
    "    \n",
    "    # Measure the time taken to fit the model\n",
    "    start_time = time.time()\n",
    "    clf.fit(X_train, y_train)\n",
    "    run_time = time.time() - start_time\n",
    "    \n",
    "    print('... predicting')\n",
    "    # Predict on the training data\n",
    "    y_pred_train = clf.predict(X_train)   \n",
    "    y_pred_test = clf.predict(X_test)\n",
    "    \n",
    "    print('... scoring')\n",
    "    # Calculate evaluation metrics for training data\n",
    "    accuracy = metrics.accuracy_score(y_train, y_pred_train)\n",
    "    precision = metrics.precision_score(y_train, y_pred_train, average='weighted')\n",
    "    recall = metrics.recall_score(y_train, y_pred_train, average='weighted')\n",
    "    f1 = metrics.f1_score(y_train, y_pred_train, average='weighted')    \n",
    "    \n",
    "    # Calculate evaluation metrics for test data\n",
    "    f1_test = metrics.f1_score(y_test, y_pred_test, average='weighted')    \n",
    "    \n",
    "    # Save the results to dictionaries\n",
    "    models[name] = clf    \n",
    "    confusion[name] = metrics.confusion_matrix(y_train, y_pred_train)\n",
    "    class_report[name] = metrics.classification_report(y_train, y_pred_train)\n",
    "    \n",
    "    # Append results to the list\n",
    "    results.append([name, accuracy, precision, recall, f1, f1_test, run_time])\n",
    "\n",
    "# Convert results to DataFrame for easy visualization\n",
    "results_df = pd.DataFrame(results, columns=['Classifier', 'Accuracy', 'Precision', 'Recall', 'F1 Train', 'F1 Test', 'Train Time'])\n",
    "results_df.set_index('Classifier', inplace=True)\n",
    "\n",
    "print('... All done!')\n",
    "print(results_df)\n"
   ]
  },
  {
   "cell_type": "code",
   "execution_count": 10,
   "id": "18a6aad9-f794-4582-9ce1-e478c400a9ff",
   "metadata": {},
   "outputs": [
    {
     "data": {
      "text/html": [
       "<div>\n",
       "<style scoped>\n",
       "    .dataframe tbody tr th:only-of-type {\n",
       "        vertical-align: middle;\n",
       "    }\n",
       "\n",
       "    .dataframe tbody tr th {\n",
       "        vertical-align: top;\n",
       "    }\n",
       "\n",
       "    .dataframe thead th {\n",
       "        text-align: right;\n",
       "    }\n",
       "</style>\n",
       "<table border=\"1\" class=\"dataframe\">\n",
       "  <thead>\n",
       "    <tr style=\"text-align: right;\">\n",
       "      <th></th>\n",
       "      <th>Accuracy</th>\n",
       "      <th>Precision</th>\n",
       "      <th>Recall</th>\n",
       "      <th>F1 Train</th>\n",
       "      <th>F1 Test</th>\n",
       "      <th>Train Time</th>\n",
       "    </tr>\n",
       "    <tr>\n",
       "      <th>Classifier</th>\n",
       "      <th></th>\n",
       "      <th></th>\n",
       "      <th></th>\n",
       "      <th></th>\n",
       "      <th></th>\n",
       "      <th></th>\n",
       "    </tr>\n",
       "  </thead>\n",
       "  <tbody>\n",
       "    <tr>\n",
       "      <th>Logistic Regression</th>\n",
       "      <td>1.000000</td>\n",
       "      <td>1.000000</td>\n",
       "      <td>1.000000</td>\n",
       "      <td>1.000000</td>\n",
       "      <td>0.977574</td>\n",
       "      <td>2.379979</td>\n",
       "    </tr>\n",
       "    <tr>\n",
       "      <th>SVC Linear</th>\n",
       "      <td>1.000000</td>\n",
       "      <td>1.000000</td>\n",
       "      <td>1.000000</td>\n",
       "      <td>1.000000</td>\n",
       "      <td>0.976583</td>\n",
       "      <td>4.882543</td>\n",
       "    </tr>\n",
       "    <tr>\n",
       "      <th>KNN</th>\n",
       "      <td>0.906522</td>\n",
       "      <td>0.917236</td>\n",
       "      <td>0.906522</td>\n",
       "      <td>0.905539</td>\n",
       "      <td>0.804954</td>\n",
       "      <td>0.002074</td>\n",
       "    </tr>\n",
       "  </tbody>\n",
       "</table>\n",
       "</div>"
      ],
      "text/plain": [
       "                     Accuracy  Precision    Recall  F1 Train   F1 Test  \\\n",
       "Classifier                                                               \n",
       "Logistic Regression  1.000000   1.000000  1.000000  1.000000  0.977574   \n",
       "SVC Linear           1.000000   1.000000  1.000000  1.000000  0.976583   \n",
       "KNN                  0.906522   0.917236  0.906522  0.905539  0.804954   \n",
       "\n",
       "                     Train Time  \n",
       "Classifier                       \n",
       "Logistic Regression    2.379979  \n",
       "SVC Linear             4.882543  \n",
       "KNN                    0.002074  "
      ]
     },
     "execution_count": 10,
     "metadata": {},
     "output_type": "execute_result"
    }
   ],
   "source": [
    "results_df.sort_values('F1 Train', ascending=False)"
   ]
  },
  {
   "cell_type": "code",
   "execution_count": 11,
   "id": "3c95bf4d-33db-4ea0-846e-8693bf673f04",
   "metadata": {},
   "outputs": [
    {
     "data": {
      "image/png": "[encoded data removed]",
      "text/plain": [
       "<Figure size 1400x600 with 2 Axes>"
      ]
     },
     "metadata": {},
     "output_type": "display_data"
    }
   ],
   "source": [
    "fig, ax = plt.subplots(1, 2, figsize=(14, 6))\n",
    "\n",
    "# F1 Test Score Plot\n",
    "results_df.sort_values('F1 Train', ascending=False, inplace=True)\n",
    "results_df['F1 Test'].plot(kind='bar', ax=ax[0], color='skyblue', ylim=[0, 1])\n",
    "ax[0].set_title('F1 Score on Test Data vs. Classifier')\n",
    "ax[0].set_ylabel('F1 Score')\n",
    "ax[0].set_xlabel('Classifier')\n",
    "\n",
    "# Training Time Plot\n",
    "results_df['Train Time'].plot(kind='bar', ax=ax[1], color='salmon')\n",
    "ax[1].set_title('Training Time vs. Classifier')\n",
    "ax[1].set_ylabel('Training Time (seconds)')\n",
    "ax[1].set_xlabel('Classifier')\n",
    "\n",
    "plt.tight_layout()\n",
    "plt.show()"
   ]
  },
  {
   "cell_type": "markdown",
   "id": "59bc6a66-9c3c-4189-a0db-1580154f33a6",
   "metadata": {},
   "source": [
    "A confusion matrix was also used as a performance measurement tool for each model. "
   ]
  },
  {
   "cell_type": "code",
   "execution_count": 12,
   "id": "e42b7bd9-1636-43a6-99da-b9b64f5bd234",
   "metadata": {},
   "outputs": [
    {
     "name": "stdout",
     "output_type": "stream",
     "text": [
      "Confusion Matrix for Logistic Regression:\n",
      "[[1120    0    0    0    0]\n",
      " [   0 1520    0    0    0]\n",
      " [   0    0  960    0    0]\n",
      " [   0    0    0  640    0]\n",
      " [   0    0    0    0 1280]]\n",
      "\n",
      "Confusion Matrix for KNN:\n",
      "[[1031    4    0    5   80]\n",
      " [   5 1484    1    1   29]\n",
      " [   3   84  711   13  149]\n",
      " [   4   74    0  531   31]\n",
      " [  13   20    0    0 1247]]\n",
      "\n",
      "Confusion Matrix for SVC Linear:\n",
      "[[1120    0    0    0    0]\n",
      " [   0 1520    0    0    0]\n",
      " [   0    0  960    0    0]\n",
      " [   0    0    0  640    0]\n",
      " [   0    0    0    0 1280]]\n",
      "\n",
      "Classification Report for Logistic Regression:\n",
      "              precision    recall  f1-score   support\n",
      "\n",
      "           0       1.00      1.00      1.00      1120\n",
      "           1       1.00      1.00      1.00      1520\n",
      "           2       1.00      1.00      1.00       960\n",
      "           3       1.00      1.00      1.00       640\n",
      "           4       1.00      1.00      1.00      1280\n",
      "\n",
      "    accuracy                           1.00      5520\n",
      "   macro avg       1.00      1.00      1.00      5520\n",
      "weighted avg       1.00      1.00      1.00      5520\n",
      "\n",
      "\n",
      "Classification Report for KNN:\n",
      "              precision    recall  f1-score   support\n",
      "\n",
      "           0       0.98      0.92      0.95      1120\n",
      "           1       0.89      0.98      0.93      1520\n",
      "           2       1.00      0.74      0.85       960\n",
      "           3       0.97      0.83      0.89       640\n",
      "           4       0.81      0.97      0.89      1280\n",
      "\n",
      "    accuracy                           0.91      5520\n",
      "   macro avg       0.93      0.89      0.90      5520\n",
      "weighted avg       0.92      0.91      0.91      5520\n",
      "\n",
      "\n",
      "Classification Report for SVC Linear:\n",
      "              precision    recall  f1-score   support\n",
      "\n",
      "           0       1.00      1.00      1.00      1120\n",
      "           1       1.00      1.00      1.00      1520\n",
      "           2       1.00      1.00      1.00       960\n",
      "           3       1.00      1.00      1.00       640\n",
      "           4       1.00      1.00      1.00      1280\n",
      "\n",
      "    accuracy                           1.00      5520\n",
      "   macro avg       1.00      1.00      1.00      5520\n",
      "weighted avg       1.00      1.00      1.00      5520\n",
      "\n",
      "\n"
     ]
    }
   ],
   "source": [
    "# Display confusion matrices and classification reports\n",
    "for name, matrix in confusion.items():\n",
    "    print(f\"Confusion Matrix for {name}:\")\n",
    "    print(matrix)\n",
    "    print()\n",
    "    \n",
    "for name, report in class_report.items():\n",
    "    print(f\"Classification Report for {name}:\")\n",
    "    print(report)\n",
    "    print()"
   ]
  },
  {
   "cell_type": "markdown",
   "id": "8c17917a-60b8-4a22-9240-f348bfd4b5ee",
   "metadata": {},
   "source": [
    "### Model Validation"
   ]
  },
  {
   "cell_type": "code",
   "execution_count": 15,
   "id": "45d6245f-b0f1-43f6-8cb1-421aaa9b9ff3",
   "metadata": {},
   "outputs": [
    {
     "name": "stdout",
     "output_type": "stream",
     "text": [
      "\n",
      "Logistic Regression\n",
      "Accuracy: 0.98 (+/- 0.0041)\n",
      "\n",
      "KNN\n",
      "Accuracy: 0.80 (+/- 0.0107)\n",
      "\n",
      "SVC Linear\n",
      "Accuracy: 0.98 (+/- 0.0048)\n"
     ]
    }
   ],
   "source": [
    "# Initialize an empty list to store cross-validation results\n",
    "cv = []\n",
    "\n",
    "# Iterate over each model in the 'models' dictionary\n",
    "for name, model in models.items():\n",
    "    print()  # Print an empty line for better readability\n",
    "    print(name)  # Print the name of the current model\n",
    "    # Perform k-fold cross-validation (with k=5) on the current model\n",
    "    scores = cross_val_score(model, X_train.toarray(), y_train, cv=3)\n",
    "    # Calculate the mean and standard deviation of the cross-validation scores\n",
    "    print(\"Accuracy: {:0.2f} (+/- {:0.4f})\".format(scores.mean(), scores.std()))\n",
    "    # Append the model name, mean cross-validation score, and standard deviation to the 'cv' list\n",
    "    cv.append([name, scores.mean(), scores.std()])\n",
    "\n",
    "# Convert the list of cross-validation results to a DataFrame\n",
    "cv = pd.DataFrame(cv, columns=['Model', 'CV_Mean', 'CV_Std_Dev'])\n",
    "\n",
    "# Set the index of the DataFrame to the model names\n",
    "cv.set_index('Model', inplace=True)"
   ]
  },
  {
   "cell_type": "code",
   "execution_count": 16,
   "id": "124b0149-e272-4ca5-a10e-1b5a7df7d1bb",
   "metadata": {},
   "outputs": [
    {
     "data": {
      "text/plain": [
       "<Axes: xlabel='Model'>"
      ]
     },
     "execution_count": 16,
     "metadata": {},
     "output_type": "execute_result"
    },
    {
     "data": {
      "image/png": "[encoded data removed]",
      "text/plain": [
       "<Figure size 640x480 with 1 Axes>"
      ]
     },
     "metadata": {},
     "output_type": "display_data"
    }
   ],
   "source": [
    "# Plot the mean cross-validation scores with error bars representing the standard deviation\n",
    "# Set the y-axis to represent the mean cross-validation scores\n",
    "# Set the error bars to represent the standard deviation of the cross-validation scores\n",
    "# Limit the y-axis to the range [0.65, 0.85] for better visualization\n",
    "cv.plot(y='CV_Mean', yerr='CV_Std_Dev', kind='bar', ylim=[0.7, 1])\n"
   ]
  },
  {
   "cell_type": "markdown",
   "id": "46a4d508-377a-4f15-829e-6cd51e867d59",
   "metadata": {},
   "source": [
    "### Insights \n",
    "We summarize findings from the analysis and discuss any conclusions drawn and insights gained from the data."
   ]
  },
  {
   "cell_type": "markdown",
   "id": "b06286ec-659d-40e1-a7ba-f848064578f3",
   "metadata": {},
   "source": [
    "This table provides a comparison of three classifiers—Logistic Regression, SVC Linear, and KNN—based on key performance metrics such as accuracy, precision, recall, F1 scores (for both training and testing), and training time:"
   ]
  },
  {
   "cell_type": "markdown",
   "id": "fabb0e92-6bb1-475e-8008-c7c7d5bfdd5a",
   "metadata": {},
   "source": [
    "| Classifier            | Accuracy  | Precision | Recall    | F1 Train  | F1 Test  | Train Time |\n",
    "|-----------------------|-----------|-----------|-----------|-----------|----------|------------|\n",
    "| Logistic Regression    | 1.000000  | 1.000000  | 1.000000  | 1.000000  | 0.977574 | 2.382059   |\n",
    "| SVC Linear             | 1.000000  | 1.000000  | 1.000000  | 1.000000  | 0.976583 | 4.989158   |\n",
    "| KNN                    | 0.906522  | 0.917236  | 0.906522  | 0.905539  | 0.804954 | 0.002600   |\n"
   ]
  },
  {
   "cell_type": "markdown",
   "id": "1a1fef74-93e8-4b6f-90dd-c644b47c8976",
   "metadata": {},
   "source": [
    "Logistic Regression and SVC Linear both achieved perfect performance across all metrics during training, with accuracy, precision, recall, and F1 scores of 1.000. However, the F1 score on the test set for both models slightly dropped, with Logistic Regression scoring 0.978 and SVC Linear scoring 0.977. Logistic Regression also trained faster than SVC Linear, taking 2.38 seconds compared to 4.99 seconds.\n",
    "\n",
    "KNN performed worse than both Logistic Regression and SVC Linear. It had lower accuracy (0.907), precision (0.917), recall (0.907), and F1 scores, especially on the test set (0.805). However, KNN was significantly faster to train, taking only 0.0026 seconds."
   ]
  },
  {
   "cell_type": "markdown",
   "id": "01066d88-dd33-45a9-80c6-8bac2a610efa",
   "metadata": {},
   "source": [
    "With regards to the confusion matrix, both Logistic Regression and SVC Linear show perfect classification, making them the most accurate models for this dataset.\n",
    "KNN, while not as perfect, shows reasonable performance, with some confusion between certain categories.\n",
    "\n",
    "Further, Logistic Regression and SVC Linear are identical in performance, both achieving 100% accuracy and perfect scores across precision, recall, and F1. While KNN shows strong, but not perfect, performance with an accuracy of 91%. It struggles slightly with precision for Class 4 and recall for Class 2 but still delivers high F1-scores across most classes."
   ]
  },
  {
   "cell_type": "markdown",
   "id": "9e24d1b7-0ea8-4b20-aac1-b09fb909c97b",
   "metadata": {},
   "source": [
    "### Conclusion"
   ]
  },
  {
   "cell_type": "markdown",
   "id": "0da2b29d-1207-4422-b29c-c3802bd7bdbe",
   "metadata": {},
   "source": [
    "In summary, while Logistic Regression and SVC Linear show very high and comparable performance, KNN underperforms but is the fastest in terms of training time."
   ]
  }
 ],
 "metadata": {
  "kernelspec": {
   "display_name": "Python 3 (ipykernel)",
   "language": "python",
   "name": "python3"
  },
  "language_info": {
   "codemirror_mode": {
    "name": "ipython",
    "version": 3
   },
   "file_extension": ".py",
   "mimetype": "text/x-python",
   "name": "python",
   "nbconvert_exporter": "python",
   "pygments_lexer": "ipython3",
   "version": "3.11.7"
  }
 },
 "nbformat": 4,
 "nbformat_minor": 5
}
